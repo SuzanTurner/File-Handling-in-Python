{
 "cells": [
  {
   "cell_type": "code",
   "execution_count": 1,
   "id": "314cdd3f-46f9-418b-9bff-21685be826f9",
   "metadata": {},
   "outputs": [],
   "source": [
    "import pandas\n"
   ]
  },
  {
   "cell_type": "code",
   "execution_count": 35,
   "id": "28775ae1-cf60-4fcb-af7e-b34b2af09555",
   "metadata": {},
   "outputs": [
    {
     "name": "stdout",
     "output_type": "stream",
     "text": [
      "              X          Y Unique Squirrel ID Hectare Shift      Date  \\\n",
      "0    -73.956134  40.794082     37F-PM-1014-03     37F    PM  10142018   \n",
      "1    -73.968857  40.783783     21B-AM-1019-04     21B    AM  10192018   \n",
      "2    -73.974281  40.775534     11B-PM-1014-08     11B    PM  10142018   \n",
      "3    -73.959641  40.790313     32E-PM-1017-14     32E    PM  10172018   \n",
      "4    -73.970268  40.776213     13E-AM-1017-05     13E    AM  10172018   \n",
      "...         ...        ...                ...     ...   ...       ...   \n",
      "3018 -73.963943  40.790868     30B-AM-1007-04     30B    AM  10072018   \n",
      "3019 -73.970402  40.782560     19A-PM-1013-05     19A    PM  10132018   \n",
      "3020 -73.966587  40.783678     22D-PM-1012-07     22D    PM  10122018   \n",
      "3021 -73.963994  40.789915     29B-PM-1010-02     29B    PM  10102018   \n",
      "3022 -73.975479  40.769640      5E-PM-1012-01     05E    PM  10122018   \n",
      "\n",
      "      Hectare Squirrel Number    Age Primary Fur Color  \\\n",
      "0                           3    NaN               NaN   \n",
      "1                           4    NaN               NaN   \n",
      "2                           8    NaN              Gray   \n",
      "3                          14  Adult              Gray   \n",
      "4                           5  Adult              Gray   \n",
      "...                       ...    ...               ...   \n",
      "3018                        4  Adult              Gray   \n",
      "3019                        5  Adult              Gray   \n",
      "3020                        7  Adult              Gray   \n",
      "3021                        2    NaN              Gray   \n",
      "3022                        1  Adult          Cinnamon   \n",
      "\n",
      "         Highlight Fur Color  ...   Kuks  Quaas  Moans Tail flags  \\\n",
      "0                        NaN  ...  False  False  False      False   \n",
      "1                        NaN  ...  False  False  False      False   \n",
      "2                        NaN  ...  False  False  False      False   \n",
      "3                        NaN  ...  False  False  False      False   \n",
      "4                   Cinnamon  ...  False  False  False      False   \n",
      "...                      ...  ...    ...    ...    ...        ...   \n",
      "3018                     NaN  ...  False  False  False      False   \n",
      "3019                   White  ...  False  False  False      False   \n",
      "3020  Black, Cinnamon, White  ...  False  False  False      False   \n",
      "3021         Cinnamon, White  ...  False  False  False      False   \n",
      "3022             Gray, White  ...  False  False  False      False   \n",
      "\n",
      "     Tail twitches  Approaches  Indifferent  Runs from  Other Interactions  \\\n",
      "0            False       False        False      False                 NaN   \n",
      "1            False       False        False      False                 NaN   \n",
      "2            False       False        False      False                 NaN   \n",
      "3            False       False        False       True                 NaN   \n",
      "4            False       False        False      False                 NaN   \n",
      "...            ...         ...          ...        ...                 ...   \n",
      "3018         False       False        False       True                 NaN   \n",
      "3019         False       False         True      False                 NaN   \n",
      "3020         False       False         True      False                 NaN   \n",
      "3021         False       False         True      False                 NaN   \n",
      "3022         False        True        False      False                 NaN   \n",
      "\n",
      "                                        Lat/Long  \n",
      "0     POINT (-73.9561344937861 40.7940823884086)  \n",
      "1     POINT (-73.9688574691102 40.7837825208444)  \n",
      "2     POINT (-73.97428114848522 40.775533619083)  \n",
      "3     POINT (-73.9596413903948 40.7903128889029)  \n",
      "4     POINT (-73.9702676472613 40.7762126854894)  \n",
      "...                                          ...  \n",
      "3018  POINT (-73.9639431360458 40.7908677445466)  \n",
      "3019  POINT (-73.9704015859639 40.7825600069973)  \n",
      "3020  POINT (-73.9665871993517 40.7836775064883)  \n",
      "3021  POINT (-73.9639941227864 40.7899152327912)  \n",
      "3022  POINT (-73.9754794191553 40.7696404489025)  \n",
      "\n",
      "[3023 rows x 31 columns]\n"
     ]
    }
   ],
   "source": [
    "data = pandas.read_csv(r\"C:\\Users\\Yadhnesh\\Dropbox\\PC\\Downloads\\Squirrel.csv\")\n",
    "print(data)"
   ]
  },
  {
   "cell_type": "code",
   "execution_count": 7,
   "id": "225bab89-d932-478b-829c-b5907e5f5d6e",
   "metadata": {},
   "outputs": [
    {
     "data": {
      "text/plain": [
       "(3023, 31)"
      ]
     },
     "execution_count": 7,
     "metadata": {},
     "output_type": "execute_result"
    }
   ],
   "source": [
    "data.shape"
   ]
  },
  {
   "cell_type": "code",
   "execution_count": 11,
   "id": "b15ffec8-2158-4d7d-8e0f-07fa0a406c9d",
   "metadata": {},
   "outputs": [
    {
     "name": "stdout",
     "output_type": "stream",
     "text": [
      "0                          NaN\n",
      "1                          NaN\n",
      "2                          NaN\n",
      "3                          NaN\n",
      "4                     Cinnamon\n",
      "                 ...          \n",
      "3018                       NaN\n",
      "3019                     White\n",
      "3020    Black, Cinnamon, White\n",
      "3021           Cinnamon, White\n",
      "3022               Gray, White\n",
      "Name: Highlight Fur Color, Length: 3023, dtype: object\n"
     ]
    }
   ],
   "source": [
    "print(data[\"Highlight Fur Color\"])"
   ]
  },
  {
   "cell_type": "code",
   "execution_count": 36,
   "id": "73f4553a-ed38-495f-af52-8f1433264c8b",
   "metadata": {},
   "outputs": [
    {
     "name": "stdout",
     "output_type": "stream",
     "text": [
      "103\n"
     ]
    }
   ],
   "source": [
    "b = data[data[\"Primary Fur Color\"] == \"Black\"]\n",
    "print(len(b))"
   ]
  },
  {
   "cell_type": "code",
   "execution_count": 37,
   "id": "c18ff6b4-6c3a-4755-a7e7-a535f238e16a",
   "metadata": {},
   "outputs": [
    {
     "name": "stdout",
     "output_type": "stream",
     "text": [
      "392\n"
     ]
    }
   ],
   "source": [
    "c = data[data[\"Primary Fur Color\"] == \"Cinnamon\"]\n",
    "print(len(c))"
   ]
  },
  {
   "cell_type": "code",
   "execution_count": 38,
   "id": "105b0afb-81b8-448c-a376-12a196cc7ee3",
   "metadata": {},
   "outputs": [
    {
     "name": "stdout",
     "output_type": "stream",
     "text": [
      "2473\n"
     ]
    }
   ],
   "source": [
    "g = data[data[\"Primary Fur Color\"] == \"Gray\"]\n",
    "print(len(g))"
   ]
  },
  {
   "cell_type": "code",
   "execution_count": 39,
   "id": "6ec01b9e-3e95-437c-9421-135fcfc19335",
   "metadata": {},
   "outputs": [],
   "source": [
    "dict = {\"Fur Color\": [\"Black\", \"Cinnamon\", \"Gray\"],\n",
    "        \"Count\" : [b,c,g]}\n",
    "        "
   ]
  },
  {
   "cell_type": "code",
   "execution_count": 40,
   "id": "d31c3c23-aae3-4d99-a9a9-e4d26ec06035",
   "metadata": {},
   "outputs": [
    {
     "name": "stdout",
     "output_type": "stream",
     "text": [
      "{'Fur Color': ['Black', 'Cinnamon', 'Gray'], 'Count': [              X          Y Unique Squirrel ID Hectare Shift      Date  \\\n",
      "37   -73.957956  40.795934     38C-PM-1014-09     38C    PM  10142018   \n",
      "45   -73.968064  40.779250     17E-AM-1017-05     17E    AM  10172018   \n",
      "94   -73.971054  40.772469     10F-PM-1019-05     10F    PM  10192018   \n",
      "126  -73.958166  40.799771     41A-PM-1007-06     41A    PM  10072018   \n",
      "177  -73.970878  40.772474     10F-PM-1019-12     10F    PM  10192018   \n",
      "...         ...        ...                ...     ...   ...       ...   \n",
      "2908 -73.956448  40.797693     40C-PM-1006-04     40C    PM  10062018   \n",
      "2973 -73.957579  40.795993     38D-AM-1017-06     38D    AM  10172018   \n",
      "2974 -73.959412  40.791787     33E-AM-1014-01     33E    AM  10142018   \n",
      "2984 -73.972116  40.766050      3I-PM-1013-03     03I    PM  10132018   \n",
      "2998 -73.972415  40.773080     10E-AM-1010-02     10E    AM  10102018   \n",
      "\n",
      "      Hectare Squirrel Number    Age Primary Fur Color Highlight Fur Color  \\\n",
      "37                          9  Adult             Black                 NaN   \n",
      "45                          5  Adult             Black                 NaN   \n",
      "94                          5  Adult             Black                 NaN   \n",
      "126                         6  Adult             Black                 NaN   \n",
      "177                        12  Adult             Black               White   \n",
      "...                       ...    ...               ...                 ...   \n",
      "2908                        4  Adult             Black                 NaN   \n",
      "2973                        6  Adult             Black            Cinnamon   \n",
      "2974                        1  Adult             Black            Cinnamon   \n",
      "2984                        3  Adult             Black            Cinnamon   \n",
      "2998                        2  Adult             Black                Gray   \n",
      "\n",
      "      ...   Kuks  Quaas  Moans Tail flags Tail twitches  Approaches  \\\n",
      "37    ...  False  False  False      False         False        True   \n",
      "45    ...  False  False  False      False         False       False   \n",
      "94    ...  False  False  False      False         False       False   \n",
      "126   ...  False  False  False      False         False       False   \n",
      "177   ...  False  False  False      False         False       False   \n",
      "...   ...    ...    ...    ...        ...           ...         ...   \n",
      "2908  ...  False  False  False      False         False       False   \n",
      "2973  ...  False  False  False      False         False       False   \n",
      "2974  ...  False  False  False      False         False       False   \n",
      "2984  ...  False  False  False      False         False       False   \n",
      "2998  ...  False  False  False      False          True       False   \n",
      "\n",
      "      Indifferent  Runs from  Other Interactions  \\\n",
      "37          False      False                 NaN   \n",
      "45           True      False                 NaN   \n",
      "94           True      False                 NaN   \n",
      "126         False       True                 NaN   \n",
      "177         False       True                 NaN   \n",
      "...           ...        ...                 ...   \n",
      "2908        False       True                 NaN   \n",
      "2973        False       True                 NaN   \n",
      "2974        False       True                 NaN   \n",
      "2984        False       True                 NaN   \n",
      "2998         True      False                 NaN   \n",
      "\n",
      "                                        Lat/Long  \n",
      "37    POINT (-73.9579564338627 40.7959337795027)  \n",
      "45     POINT (-73.9680635070949 40.779249873647)  \n",
      "94    POINT (-73.9710541405708 40.7724691605718)  \n",
      "126   POINT (-73.9581655949437 40.7997708190022)  \n",
      "177    POINT (-73.9708775864433 40.772473633538)  \n",
      "...                                          ...  \n",
      "2908  POINT (-73.9564478909357 40.7976928775417)  \n",
      "2973  POINT (-73.9575791421589 40.7959934459432)  \n",
      "2974   POINT (-73.959412243507 40.7917871123534)  \n",
      "2984  POINT (-73.9721159387757 40.7660503188637)  \n",
      "2998    POINT (-73.972415182837 40.773080463452)  \n",
      "\n",
      "[103 rows x 31 columns],               X          Y Unique Squirrel ID Hectare Shift      Date  \\\n",
      "5    -73.968361  40.772591     11H-AM-1010-03     11H    AM  10102018   \n",
      "13   -73.976860  40.770280      5C-PM-1010-09     05C    PM  10102018   \n",
      "20   -73.964987  40.776493     16I-AM-1008-01     16I    AM  10082018   \n",
      "21   -73.967063  40.773499     12I-AM-1013-01     12I    AM  10132018   \n",
      "30   -73.966244  40.789038     28A-PM-1007-05     28A    PM  10072018   \n",
      "...         ...        ...                ...     ...   ...       ...   \n",
      "2997 -73.975208  40.775538     11B-AM-1007-01     11B    AM  10072018   \n",
      "3002 -73.969866  40.774000     12F-PM-1007-09     12F    PM  10072018   \n",
      "3003 -73.952848  40.792206     36I-PM-1007-08     36I    PM  10072018   \n",
      "3017 -73.964544  40.781160     21F-PM-1018-02     21F    PM  10182018   \n",
      "3022 -73.975479  40.769640      5E-PM-1012-01     05E    PM  10122018   \n",
      "\n",
      "      Hectare Squirrel Number       Age Primary Fur Color Highlight Fur Color  \\\n",
      "5                           3     Adult          Cinnamon               White   \n",
      "13                          9     Adult          Cinnamon                Gray   \n",
      "20                          1     Adult          Cinnamon         Gray, White   \n",
      "21                          1     Adult          Cinnamon               White   \n",
      "30                          5     Adult          Cinnamon                 NaN   \n",
      "...                       ...       ...               ...                 ...   \n",
      "2997                        1     Adult          Cinnamon                Gray   \n",
      "3002                        9     Adult          Cinnamon                Gray   \n",
      "3003                        8  Juvenile          Cinnamon                Gray   \n",
      "3017                        2  Juvenile          Cinnamon                Gray   \n",
      "3022                        1     Adult          Cinnamon         Gray, White   \n",
      "\n",
      "      ...   Kuks  Quaas  Moans Tail flags Tail twitches  Approaches  \\\n",
      "5     ...  False  False  False      False          True       False   \n",
      "13    ...  False  False  False      False         False       False   \n",
      "20    ...  False  False  False      False          True       False   \n",
      "21    ...  False  False  False      False          True       False   \n",
      "30    ...  False  False  False      False          True       False   \n",
      "...   ...    ...    ...    ...        ...           ...         ...   \n",
      "2997  ...  False  False  False      False          True        True   \n",
      "3002  ...  False  False  False      False         False       False   \n",
      "3003  ...  False  False  False      False          True       False   \n",
      "3017  ...  False  False  False      False         False       False   \n",
      "3022  ...  False  False  False      False         False        True   \n",
      "\n",
      "      Indifferent  Runs from  Other Interactions  \\\n",
      "5            True      False                 NaN   \n",
      "13          False      False                 NaN   \n",
      "20           True      False                 NaN   \n",
      "21          False       True                 NaN   \n",
      "30          False       True                 NaN   \n",
      "...           ...        ...                 ...   \n",
      "2997        False      False                 NaN   \n",
      "3002         True      False                 NaN   \n",
      "3003         True      False                 NaN   \n",
      "3017        False       True                 NaN   \n",
      "3022        False      False                 NaN   \n",
      "\n",
      "                                         Lat/Long  \n",
      "5      POINT (-73.9683613516225 40.7725908847499)  \n",
      "13     POINT (-73.9768603630674 40.7702795904962)  \n",
      "20     POINT (-73.9649866016038 40.7764929694457)  \n",
      "21    POINT (-73.9670628558161 40.77349914209411)  \n",
      "30     POINT (-73.9662438996681 40.7890381809441)  \n",
      "...                                           ...  \n",
      "2997   POINT (-73.9752079247419 40.7755376979002)  \n",
      "3002    POINT (-73.9698663926657 40.773999710413)  \n",
      "3003   POINT (-73.9528482858163 40.7922056218325)  \n",
      "3017   POINT (-73.9645437409662 40.7811599933331)  \n",
      "3022   POINT (-73.9754794191553 40.7696404489025)  \n",
      "\n",
      "[392 rows x 31 columns],               X          Y Unique Squirrel ID Hectare Shift      Date  \\\n",
      "2    -73.974281  40.775534     11B-PM-1014-08     11B    PM  10142018   \n",
      "3    -73.959641  40.790313     32E-PM-1017-14     32E    PM  10172018   \n",
      "4    -73.970268  40.776213     13E-AM-1017-05     13E    AM  10172018   \n",
      "6    -73.954120  40.793181     36H-AM-1010-02     36H    AM  10102018   \n",
      "7    -73.958269  40.791737     33F-AM-1008-02     33F    AM  10082018   \n",
      "...         ...        ...                ...     ...   ...       ...   \n",
      "3016 -73.966290  40.784330     23C-AM-1019-01     23C    AM  10192018   \n",
      "3018 -73.963943  40.790868     30B-AM-1007-04     30B    AM  10072018   \n",
      "3019 -73.970402  40.782560     19A-PM-1013-05     19A    PM  10132018   \n",
      "3020 -73.966587  40.783678     22D-PM-1012-07     22D    PM  10122018   \n",
      "3021 -73.963994  40.789915     29B-PM-1010-02     29B    PM  10102018   \n",
      "\n",
      "      Hectare Squirrel Number    Age Primary Fur Color  \\\n",
      "2                           8    NaN              Gray   \n",
      "3                          14  Adult              Gray   \n",
      "4                           5  Adult              Gray   \n",
      "6                           2  Adult              Gray   \n",
      "7                           2  Adult              Gray   \n",
      "...                       ...    ...               ...   \n",
      "3016                        1  Adult              Gray   \n",
      "3018                        4  Adult              Gray   \n",
      "3019                        5  Adult              Gray   \n",
      "3020                        7  Adult              Gray   \n",
      "3021                        2    NaN              Gray   \n",
      "\n",
      "         Highlight Fur Color  ...   Kuks  Quaas  Moans Tail flags  \\\n",
      "2                        NaN  ...  False  False  False      False   \n",
      "3                        NaN  ...  False  False  False      False   \n",
      "4                   Cinnamon  ...  False  False  False      False   \n",
      "6                        NaN  ...  False  False  False      False   \n",
      "7                        NaN  ...  False  False  False      False   \n",
      "...                      ...  ...    ...    ...    ...        ...   \n",
      "3016         Cinnamon, White  ...   True  False  False      False   \n",
      "3018                     NaN  ...  False  False  False      False   \n",
      "3019                   White  ...  False  False  False      False   \n",
      "3020  Black, Cinnamon, White  ...  False  False  False      False   \n",
      "3021         Cinnamon, White  ...  False  False  False      False   \n",
      "\n",
      "     Tail twitches  Approaches  Indifferent  Runs from  Other Interactions  \\\n",
      "2            False       False        False      False                 NaN   \n",
      "3            False       False        False       True                 NaN   \n",
      "4            False       False        False      False                 NaN   \n",
      "6            False       False        False      False                 NaN   \n",
      "7            False       False         True      False                 NaN   \n",
      "...            ...         ...          ...        ...                 ...   \n",
      "3016         False       False         True      False                 NaN   \n",
      "3018         False       False        False       True                 NaN   \n",
      "3019         False       False         True      False                 NaN   \n",
      "3020         False       False         True      False                 NaN   \n",
      "3021         False       False         True      False                 NaN   \n",
      "\n",
      "                                        Lat/Long  \n",
      "2     POINT (-73.97428114848522 40.775533619083)  \n",
      "3     POINT (-73.9596413903948 40.7903128889029)  \n",
      "4     POINT (-73.9702676472613 40.7762126854894)  \n",
      "6     POINT (-73.9541201789795 40.7931811701082)  \n",
      "7     POINT (-73.9582694312289 40.7917367820255)  \n",
      "...                                          ...  \n",
      "3016  POINT (-73.9662895079734 40.7843300758044)  \n",
      "3018  POINT (-73.9639431360458 40.7908677445466)  \n",
      "3019  POINT (-73.9704015859639 40.7825600069973)  \n",
      "3020  POINT (-73.9665871993517 40.7836775064883)  \n",
      "3021  POINT (-73.9639941227864 40.7899152327912)  \n",
      "\n",
      "[2473 rows x 31 columns]]}\n"
     ]
    }
   ],
   "source": [
    "print(dict)"
   ]
  },
  {
   "cell_type": "code",
   "execution_count": 41,
   "id": "b5d58af0-5a46-44cf-ba53-f1fa58f20c52",
   "metadata": {},
   "outputs": [],
   "source": [
    "d = pandas.DataFrame(dict)\n",
    "d.to_csv(r\"C:\\Users\\Yadhnesh\\Dropbox\\PC\\Downloads\\Squirrel_Color.csv\")"
   ]
  },
  {
   "cell_type": "code",
   "execution_count": null,
   "id": "ecf6fe26-981a-4465-8457-724b3b4d0f9a",
   "metadata": {},
   "outputs": [],
   "source": []
  }
 ],
 "metadata": {
  "kernelspec": {
   "display_name": "Python 3 (ipykernel)",
   "language": "python",
   "name": "python3"
  },
  "language_info": {
   "codemirror_mode": {
    "name": "ipython",
    "version": 3
   },
   "file_extension": ".py",
   "mimetype": "text/x-python",
   "name": "python",
   "nbconvert_exporter": "python",
   "pygments_lexer": "ipython3",
   "version": "3.11.9"
  }
 },
 "nbformat": 4,
 "nbformat_minor": 5
}
