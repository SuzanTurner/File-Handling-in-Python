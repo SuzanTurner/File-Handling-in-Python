{
 "cells": [
  {
   "cell_type": "code",
   "execution_count": 3,
   "id": "d7259d37-b87b-402c-afc7-f9ccbf054690",
   "metadata": {},
   "outputs": [
    {
     "name": "stdout",
     "output_type": "stream",
     "text": [
      "day,temp,condition\n",
      "Monday,12,Sunny\n",
      "Tuesday,14,Rain\n",
      "Wednesday,15,Rain\n",
      "Thursday,14,Cloudy\n",
      "Friday,21,Sunny\n",
      "Saturday,22,Sunny\n",
      "Sunday,24,Sunny\n"
     ]
    }
   ],
   "source": [
    "with open(r\"C:\\Users\\Yadhnesh\\Dropbox\\PC\\Downloads\\weather_data.csv\") as file:\n",
    "    data = file.readlines()\n",
    "    for i in data:\n",
    "        d = i.strip()\n",
    "        print(d)"
   ]
  },
  {
   "cell_type": "markdown",
   "id": "8195f2f0-2575-4a8c-b085-8e8cb889ddf8",
   "metadata": {},
   "source": [
    "##### To make the contents of the file more readable, I have used the strip() function to remove the \\n appended at the end of line"
   ]
  },
  {
   "cell_type": "code",
   "execution_count": 4,
   "id": "747602df-2a09-447b-bdcf-3662b57fec8e",
   "metadata": {},
   "outputs": [
    {
     "name": "stdout",
     "output_type": "stream",
     "text": [
      "['day,temp,condition\\n', 'Monday,12,Sunny\\n', 'Tuesday,14,Rain\\n', 'Wednesday,15,Rain\\n', 'Thursday,14,Cloudy\\n', 'Friday,21,Sunny\\n', 'Saturday,22,Sunny\\n', 'Sunday,24,Sunny']\n"
     ]
    }
   ],
   "source": [
    "print(data)"
   ]
  },
  {
   "cell_type": "markdown",
   "id": "672dd03c-2260-4b93-90b7-f70ba7908401",
   "metadata": {},
   "source": [
    "##### Data variable is a list. The readlines() function returns the characters of each lines as an element in a list"
   ]
  },
  {
   "cell_type": "markdown",
   "id": "1eda53eb-0483-43d6-a04c-20640b5f951e",
   "metadata": {},
   "source": [
    "##### We can also do this using the built in csv module"
   ]
  },
  {
   "cell_type": "code",
   "execution_count": 5,
   "id": "4863eba7-2721-48e9-bd3b-7db07377ac8c",
   "metadata": {},
   "outputs": [],
   "source": [
    "import csv"
   ]
  },
  {
   "cell_type": "code",
   "execution_count": 8,
   "id": "6e7c3e75-398f-4cca-aa51-d78ecce610f2",
   "metadata": {},
   "outputs": [
    {
     "name": "stdout",
     "output_type": "stream",
     "text": [
      "['day', 'temp', 'condition']\n",
      "['Monday', '12', 'Sunny']\n",
      "['Tuesday', '14', 'Rain']\n",
      "['Wednesday', '15', 'Rain']\n",
      "['Thursday', '14', 'Cloudy']\n",
      "['Friday', '21', 'Sunny']\n",
      "['Saturday', '22', 'Sunny']\n",
      "['Sunday', '24', 'Sunny']\n"
     ]
    }
   ],
   "source": [
    "with open(r\"C:\\Users\\Yadhnesh\\Dropbox\\PC\\Downloads\\weather_data.csv\") as file:\n",
    "    data = csv.reader(file)\n",
    "    for row in data:\n",
    "        print(row)\n",
    "        "
   ]
  },
  {
   "cell_type": "markdown",
   "id": "68114c6a-7a24-4167-983e-f25031486d88",
   "metadata": {},
   "source": [
    "##### Printing only temperatures"
   ]
  },
  {
   "cell_type": "code",
   "execution_count": 13,
   "id": "bb467a4e-45dd-4f68-b5c1-3058028c440e",
   "metadata": {},
   "outputs": [
    {
     "name": "stdout",
     "output_type": "stream",
     "text": [
      "temp\n",
      "12\n",
      "14\n",
      "15\n",
      "14\n",
      "21\n",
      "22\n",
      "24\n"
     ]
    }
   ],
   "source": [
    "with open(r\"C:\\Users\\Yadhnesh\\Dropbox\\PC\\Downloads\\weather_data.csv\") as file:\n",
    "    data = csv.reader(file)\n",
    "    for row in data:\n",
    "        print(row[1])"
   ]
  },
  {
   "cell_type": "code",
   "execution_count": 14,
   "id": "2e7ab1d2-55f4-4953-95e6-dcb4ac7fe793",
   "metadata": {},
   "outputs": [
    {
     "name": "stdout",
     "output_type": "stream",
     "text": [
      "temp condition\n",
      "12 Sunny\n",
      "14 Rain\n",
      "15 Rain\n",
      "14 Cloudy\n",
      "21 Sunny\n",
      "22 Sunny\n",
      "24 Sunny\n"
     ]
    }
   ],
   "source": [
    "with open(r\"C:\\Users\\Yadhnesh\\Dropbox\\PC\\Downloads\\weather_data.csv\") as file:\n",
    "    data = csv.reader(file)\n",
    "    for row in data:\n",
    "        print(row[1], row[2])"
   ]
  },
  {
   "cell_type": "code",
   "execution_count": 16,
   "id": "f44a62c6-1393-4d5f-a31f-60e0ddf7fdec",
   "metadata": {},
   "outputs": [
    {
     "name": "stdout",
     "output_type": "stream",
     "text": [
      "12\n",
      "14\n",
      "15\n",
      "14\n",
      "21\n",
      "22\n",
      "24\n"
     ]
    }
   ],
   "source": [
    "with open(r\"C:\\Users\\Yadhnesh\\Dropbox\\PC\\Downloads\\weather_data.csv\") as file:\n",
    "    data = csv.reader(file)\n",
    "    for row in data:\n",
    "        if (row[1] == \"temp\"):\n",
    "            continue\n",
    "        print(row[1])\n",
    "        \n",
    "#Excluding first row temp"
   ]
  },
  {
   "cell_type": "markdown",
   "id": "c22d2c8d-b619-4d93-9231-fd84be65a5fd",
   "metadata": {},
   "source": [
    "##### Pandas module is more complex and more vast librery than csv, it has more advanced functions"
   ]
  },
  {
   "cell_type": "code",
   "execution_count": 17,
   "id": "80c186a4-956c-49a9-b2c0-aa53a794d496",
   "metadata": {},
   "outputs": [],
   "source": [
    "import pandas"
   ]
  },
  {
   "cell_type": "code",
   "execution_count": 19,
   "id": "b47c4cb8-74aa-411e-8311-5ec9790b6449",
   "metadata": {},
   "outputs": [
    {
     "name": "stdout",
     "output_type": "stream",
     "text": [
      "         day  temp condition\n",
      "0     Monday    12     Sunny\n",
      "1    Tuesday    14      Rain\n",
      "2  Wednesday    15      Rain\n",
      "3   Thursday    14    Cloudy\n",
      "4     Friday    21     Sunny\n",
      "5   Saturday    22     Sunny\n",
      "6     Sunday    24     Sunny\n"
     ]
    }
   ],
   "source": [
    "data = pandas.read_csv(r\"C:\\Users\\Yadhnesh\\Dropbox\\PC\\Downloads\\weather_data.csv\")\n",
    "print(data)"
   ]
  },
  {
   "cell_type": "markdown",
   "id": "48902264-746b-4a80-9772-c95082f22c43",
   "metadata": {},
   "source": [
    "##### We can see how pandas automatically aligns it and spaces out the contents neatly, as well as provides an index number"
   ]
  },
  {
   "cell_type": "code",
   "execution_count": 20,
   "id": "a3b34276-29fb-4b97-b18b-468544441db7",
   "metadata": {},
   "outputs": [
    {
     "name": "stdout",
     "output_type": "stream",
     "text": [
      "0    12\n",
      "1    14\n",
      "2    15\n",
      "3    14\n",
      "4    21\n",
      "5    22\n",
      "6    24\n",
      "Name: temp, dtype: int64\n"
     ]
    }
   ],
   "source": [
    "print(data[\"temp\"])"
   ]
  },
  {
   "cell_type": "markdown",
   "id": "7c55c7f5-c783-4a2b-afdd-1dd57200d641",
   "metadata": {},
   "source": [
    "##### Column name is stored in square brackets"
   ]
  },
  {
   "cell_type": "code",
   "execution_count": 24,
   "id": "694321f9-5520-4164-8e21-7b8c3c181b46",
   "metadata": {},
   "outputs": [
    {
     "name": "stdout",
     "output_type": "stream",
     "text": [
      "   temp        day condition\n",
      "0    12     Monday     Sunny\n",
      "1    14    Tuesday      Rain\n",
      "2    15  Wednesday      Rain\n",
      "3    14   Thursday    Cloudy\n",
      "4    21     Friday     Sunny\n",
      "5    22   Saturday     Sunny\n",
      "6    24     Sunday     Sunny\n"
     ]
    }
   ],
   "source": [
    "print(data[[\"temp\", \"day\", \"condition\"]])"
   ]
  },
  {
   "cell_type": "code",
   "execution_count": 25,
   "id": "e2419f25-e6e3-4026-9116-952eb8f9afaa",
   "metadata": {},
   "outputs": [
    {
     "name": "stdout",
     "output_type": "stream",
     "text": [
      "<class 'pandas.core.frame.DataFrame'>\n"
     ]
    }
   ],
   "source": [
    "print(type(data))"
   ]
  },
  {
   "cell_type": "markdown",
   "id": "5d512293-6d5f-479f-9bdb-0be4295f3fe0",
   "metadata": {},
   "source": [
    "##### Dataframe and series are two types of datatypes in pandas. Dataframe refers to anything stored in a tabular format"
   ]
  },
  {
   "cell_type": "code",
   "execution_count": 26,
   "id": "7468cdd0-1fa9-4f63-acfe-06dcda3c7f05",
   "metadata": {},
   "outputs": [
    {
     "name": "stdout",
     "output_type": "stream",
     "text": [
      "<class 'pandas.core.series.Series'>\n"
     ]
    }
   ],
   "source": [
    "print(type(data[\"day\"]))"
   ]
  },
  {
   "cell_type": "markdown",
   "id": "48bc2fec-7d5c-4845-a899-c8214811785a",
   "metadata": {},
   "source": [
    "##### Series refers to a single row or a column, equivalent to a list"
   ]
  },
  {
   "cell_type": "markdown",
   "id": "f0a2ccdb-4f91-4adb-879e-4f41e23ca420",
   "metadata": {},
   "source": [
    "##### We can convert the table into a dictionary using the to_dict() function"
   ]
  },
  {
   "cell_type": "code",
   "execution_count": 27,
   "id": "7fb97f6a-656b-45c4-b18f-fb1917c2ffd8",
   "metadata": {},
   "outputs": [
    {
     "name": "stdout",
     "output_type": "stream",
     "text": [
      "{'day': {0: 'Monday', 1: 'Tuesday', 2: 'Wednesday', 3: 'Thursday', 4: 'Friday', 5: 'Saturday', 6: 'Sunday'}, 'temp': {0: 12, 1: 14, 2: 15, 3: 14, 4: 21, 5: 22, 6: 24}, 'condition': {0: 'Sunny', 1: 'Rain', 2: 'Rain', 3: 'Cloudy', 4: 'Sunny', 5: 'Sunny', 6: 'Sunny'}}\n"
     ]
    }
   ],
   "source": [
    "d = data.to_dict()\n",
    "print(d)"
   ]
  },
  {
   "cell_type": "code",
   "execution_count": 31,
   "id": "22cab37b-b033-4fef-a888-62f10e87694a",
   "metadata": {},
   "outputs": [
    {
     "name": "stdout",
     "output_type": "stream",
     "text": [
      "[12, 14, 15, 14, 21, 22, 24]\n"
     ]
    }
   ],
   "source": [
    "l = data[\"temp\"].to_list()\n",
    "print(l)\n",
    "\n",
    "# Converting to list is also possible"
   ]
  },
  {
   "cell_type": "markdown",
   "id": "ce7c21d7-04c9-478a-a687-3ecd025b4291",
   "metadata": {},
   "source": [
    "##### Finding average of temperatures\n"
   ]
  },
  {
   "cell_type": "code",
   "execution_count": 34,
   "id": "5a5efbaa-3684-447e-94af-6d8522975d76",
   "metadata": {},
   "outputs": [
    {
     "name": "stdout",
     "output_type": "stream",
     "text": [
      "17\n"
     ]
    }
   ],
   "source": [
    "s = 0\n",
    "for i in l:\n",
    "    s = i + s\n",
    "avg = s//7\n",
    "print(avg)"
   ]
  },
  {
   "cell_type": "markdown",
   "id": "68d0cb75-4011-41c5-907e-a3532991b631",
   "metadata": {},
   "source": [
    "##### Instead of doing the above, we can simply use the mean() function to find average temperature"
   ]
  },
  {
   "cell_type": "code",
   "execution_count": 36,
   "id": "acdaebb7-2cd6-4b01-b0ee-278099abe4f5",
   "metadata": {},
   "outputs": [
    {
     "name": "stdout",
     "output_type": "stream",
     "text": [
      "17.428571428571427\n",
      "17\n"
     ]
    }
   ],
   "source": [
    "print(data[\"temp\"].mean())\n",
    "print(int(data[\"temp\"].mean()))"
   ]
  },
  {
   "cell_type": "code",
   "execution_count": 40,
   "id": "2a26cffa-45bd-49ef-88c9-9093c72c652c",
   "metadata": {},
   "outputs": [
    {
     "name": "stdout",
     "output_type": "stream",
     "text": [
      "24\n"
     ]
    }
   ],
   "source": [
    "print(data[\"temp\"].max())\n",
    "\n",
    "# printing maximum value using built-in function max()"
   ]
  },
  {
   "cell_type": "code",
   "execution_count": 41,
   "id": "52c0ea18-4e91-4077-a940-fa14e051a6b0",
   "metadata": {},
   "outputs": [
    {
     "name": "stdout",
     "output_type": "stream",
     "text": [
      "0     Sunny\n",
      "1      Rain\n",
      "2      Rain\n",
      "3    Cloudy\n",
      "4     Sunny\n",
      "5     Sunny\n",
      "6     Sunny\n",
      "Name: condition, dtype: object\n"
     ]
    }
   ],
   "source": [
    "print(data.condition)"
   ]
  },
  {
   "cell_type": "code",
   "execution_count": 42,
   "id": "9074df5f-b37c-4013-a82f-1faad750dbe9",
   "metadata": {},
   "outputs": [
    {
     "name": "stdout",
     "output_type": "stream",
     "text": [
      "0     Sunny\n",
      "1      Rain\n",
      "2      Rain\n",
      "3    Cloudy\n",
      "4     Sunny\n",
      "5     Sunny\n",
      "6     Sunny\n",
      "Name: condition, dtype: object\n"
     ]
    }
   ],
   "source": [
    "print(data[\"condition\"])"
   ]
  },
  {
   "cell_type": "markdown",
   "id": "84ad644b-ae26-4704-8a01-f297c48dad06",
   "metadata": {},
   "source": [
    "##### Data from the csv file can also be called as an object and printed"
   ]
  },
  {
   "cell_type": "code",
   "execution_count": 44,
   "id": "c7c119ee-eb7d-46cf-a2dd-201ca795fa17",
   "metadata": {},
   "outputs": [
    {
     "name": "stdout",
     "output_type": "stream",
     "text": [
      "      day  temp condition\n",
      "0  Monday    12     Sunny\n"
     ]
    }
   ],
   "source": [
    "print(data[data.day == \"Monday\"])"
   ]
  },
  {
   "cell_type": "code",
   "execution_count": 45,
   "id": "06efb828-c887-403b-81ce-1d22d82e33c3",
   "metadata": {},
   "outputs": [
    {
     "name": "stdout",
     "output_type": "stream",
     "text": [
      "      day  temp condition\n",
      "6  Sunday    24     Sunny\n"
     ]
    }
   ],
   "source": [
    "print(data[data.temp == data.temp.max()])\n"
   ]
  },
  {
   "cell_type": "code",
   "execution_count": 50,
   "id": "d5b509d4-f6a2-420f-9896-61a64e85600a",
   "metadata": {},
   "outputs": [
    {
     "name": "stdout",
     "output_type": "stream",
     "text": [
      "0    Sunny\n",
      "Name: condition, dtype: object\n"
     ]
    }
   ],
   "source": [
    "monday = data[data.day == \"Monday\"]\n",
    "print(monday.condition)"
   ]
  },
  {
   "cell_type": "code",
   "execution_count": 58,
   "id": "cc605e22-5e2e-497f-9441-f2da3ced5bdf",
   "metadata": {},
   "outputs": [
    {
     "name": "stdout",
     "output_type": "stream",
     "text": [
      "0    12\n",
      "Name: temp, dtype: int64 \n",
      "This is temp of Monday\n",
      "\n",
      "0    53.6\n",
      "Name: temp, dtype: float64 \n",
      "This is temp in F\n"
     ]
    }
   ],
   "source": [
    "t = monday.temp\n",
    "print(t, \"\\nThis is temp of Monday\\n\")\n",
    "print(((t*9)/5) + 32, \"\\nThis is temp in F\")"
   ]
  },
  {
   "cell_type": "markdown",
   "id": "656f5968-5079-4512-aea7-785bb7da726a",
   "metadata": {},
   "source": [
    "#### Creating a dataframe from scratch"
   ]
  },
  {
   "cell_type": "code",
   "execution_count": 59,
   "id": "37ea2be7-93ae-4ab5-9ebb-0ec8ee9392fc",
   "metadata": {},
   "outputs": [
    {
     "name": "stdout",
     "output_type": "stream",
     "text": [
      "    Names Age\n",
      "0     Adi  20\n",
      "1    Yadh  19\n",
      "2  Dwinky  69\n"
     ]
    }
   ],
   "source": [
    "# Firstly we create a dictionary that stores the values of the dataframe\n",
    "\n",
    "dict = { \"Names\" : [\"Adi\", \"Yadh\", \"Dwinky\"],\n",
    "         \"Age\" : [\"20\", \"19\", \"69\"] }\n",
    "\n",
    "data = pandas.DataFrame(dict)\n",
    "print(data)\n",
    "    "
   ]
  },
  {
   "cell_type": "code",
   "execution_count": 61,
   "id": "8232ee13-e7f4-47f5-bfda-677aa657e295",
   "metadata": {},
   "outputs": [],
   "source": [
    "# This can also be stored into a csv file\n",
    "\n",
    "data.to_csv(r\"D:\\Yadh Documents\\100 Days of Code Python\\data.csv\")"
   ]
  },
  {
   "cell_type": "code",
   "execution_count": null,
   "id": "d8e5f3fb-f1ee-42bc-9cb6-5b8e8390216b",
   "metadata": {},
   "outputs": [],
   "source": []
  }
 ],
 "metadata": {
  "kernelspec": {
   "display_name": "Python 3 (ipykernel)",
   "language": "python",
   "name": "python3"
  },
  "language_info": {
   "codemirror_mode": {
    "name": "ipython",
    "version": 3
   },
   "file_extension": ".py",
   "mimetype": "text/x-python",
   "name": "python",
   "nbconvert_exporter": "python",
   "pygments_lexer": "ipython3",
   "version": "3.11.9"
  }
 },
 "nbformat": 4,
 "nbformat_minor": 5
}
